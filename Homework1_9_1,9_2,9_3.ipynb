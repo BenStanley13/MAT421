{
  "nbformat": 4,
  "nbformat_minor": 0,
  "metadata": {
    "colab": {
      "provenance": [],
      "name": "Homework1:9.1,9.2,9.3.ipynb"
    },
    "kernelspec": {
      "name": "python3",
      "display_name": "Python 3"
    },
    "language_info": {
      "name": "python"
    }
  },
  "cells": [
    {
      "cell_type": "code",
      "execution_count": null,
      "metadata": {
        "id": "Cd6ch8d-rADd"
      },
      "outputs": [],
      "source": [
        "import numpy as np"
      ]
    },
    {
      "cell_type": "markdown",
      "source": [
        "Examples of binary numbers"
      ],
      "metadata": {
        "id": "VbSquLOqsxlU"
      }
    },
    {
      "cell_type": "code",
      "source": [
        "print(127,'=',bin(127),'\\n',63,'=',bin(63),'\\n',200,'=',bin(200))"
      ],
      "metadata": {
        "colab": {
          "base_uri": "https://localhost:8080/"
        },
        "id": "c34fWzDnr9LM",
        "outputId": "f17cd926-547d-43f5-8e86-5a37c8da05e3"
      },
      "execution_count": null,
      "outputs": [
        {
          "output_type": "stream",
          "name": "stdout",
          "text": [
            "127 = 0b1111111 \n",
            " 63 = 0b111111 \n",
            " 200 = 0b11001000\n"
          ]
        }
      ]
    },
    {
      "cell_type": "markdown",
      "source": [
        "Binary math"
      ],
      "metadata": {
        "id": "7OsrgC0Xs3Ce"
      }
    },
    {
      "cell_type": "code",
      "source": [
        "a = 0b1111111\n",
        "b = 0b111111\n",
        "c = 0b11001000\n",
        "\n",
        "print('0b1111111 * 0b111111 = ',bin(a*b),'\\n',bin(a*b),'=',a*b)\n",
        "print('0b111111 + 0b11001000 = ',bin(b+c),'\\n',bin(b+c),'=',b+c)"
      ],
      "metadata": {
        "colab": {
          "base_uri": "https://localhost:8080/"
        },
        "id": "i_ehhIO_st8x",
        "outputId": "ac4bec90-595e-42c0-8363-d23c99a6be1f"
      },
      "execution_count": null,
      "outputs": [
        {
          "output_type": "stream",
          "name": "stdout",
          "text": [
            "0b1111111 * 0b111111 =  0b1111101000001 \n",
            " 0b1111101000001 = 8001\n",
            "0b111111 + 0b11001000 =  0b100000111 \n",
            " 0b100000111 = 263\n"
          ]
        }
      ]
    },
    {
      "cell_type": "markdown",
      "source": [
        "Float Numbers:\n",
        "\n",
        "Example of a float"
      ],
      "metadata": {
        "id": "83xbFneCxIzc"
      }
    },
    {
      "cell_type": "code",
      "source": [
        "\n",
        "print('Float : ',1.2e120)"
      ],
      "metadata": {
        "colab": {
          "base_uri": "https://localhost:8080/"
        },
        "id": "UxYn145zsuET",
        "outputId": "469443d5-1db0-4449-e0a4-05579ed33ca3"
      },
      "execution_count": null,
      "outputs": [
        {
          "output_type": "stream",
          "name": "stdout",
          "text": [
            "Float :  1.2e+120\n"
          ]
        }
      ]
    },
    {
      "cell_type": "markdown",
      "source": [
        "Floating point numbers hax a max, a value above which python will just identify it as inf"
      ],
      "metadata": {
        "id": "8LENaMFE1Ex_"
      }
    },
    {
      "cell_type": "code",
      "source": [
        "print('Trying to print float 1.9e+309 :',1.9e309)"
      ],
      "metadata": {
        "colab": {
          "base_uri": "https://localhost:8080/"
        },
        "id": "DlNqh1xv1kBx",
        "outputId": "2564ecef-47f2-4b85-8d7e-abf69eb54361"
      },
      "execution_count": null,
      "outputs": [
        {
          "output_type": "stream",
          "name": "stdout",
          "text": [
            "Trying to print float 1.9e+309 : inf\n"
          ]
        }
      ]
    },
    {
      "cell_type": "markdown",
      "source": [
        "Round Off Errors:\n",
        "\n",
        "In python decimal numbers (floats) aren't recorded as an exact number but an approxiamtion of the number and as a result when working with decimal numbers there can be round off errors.\n"
      ],
      "metadata": {
        "id": "fXT3q-MX2K7L"
      }
    },
    {
      "cell_type": "code",
      "source": [
        "print('13.8 - 13.795 should equal 0.005 however the result is actually : ',13.8-13.795)\n",
        "print('In Python does 0.005 = 13.8 - 13.795 : ',13.8-13.795 == 0.005)"
      ],
      "metadata": {
        "colab": {
          "base_uri": "https://localhost:8080/"
        },
        "id": "AnUbqg5q2sGl",
        "outputId": "ceb82db4-72d8-489e-9f7c-579036b58998"
      },
      "execution_count": null,
      "outputs": [
        {
          "output_type": "stream",
          "name": "stdout",
          "text": [
            "13.8 - 13.795 should equal 0.005 however the result is actually :  0.005000000000000782\n",
            "In Python does 0.005 = 13.8 - 13.795 :  False\n"
          ]
        }
      ]
    },
    {
      "cell_type": "markdown",
      "source": [
        "One way to address the round off error is to use the round function in python\n",
        "\n",
        "Ex:"
      ],
      "metadata": {
        "id": "mLW9w-_n4DT7"
      }
    },
    {
      "cell_type": "code",
      "source": [
        "print('round(13.8-13.795, 5) = 0.005 :', round(13.8-13.795, 5) == 0.005)"
      ],
      "metadata": {
        "colab": {
          "base_uri": "https://localhost:8080/"
        },
        "id": "udH_jqz84CZw",
        "outputId": "2e7b2fc9-c474-4d58-943c-e06e90033c8c"
      },
      "execution_count": null,
      "outputs": [
        {
          "output_type": "stream",
          "name": "stdout",
          "text": [
            "round(13.8-13.795, 5) = 0.005 : True\n"
          ]
        }
      ]
    }
  ]
}