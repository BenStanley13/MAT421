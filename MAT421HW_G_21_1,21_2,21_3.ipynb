{
  "nbformat": 4,
  "nbformat_minor": 0,
  "metadata": {
    "colab": {
      "provenance": [],
      "authorship_tag": "ABX9TyNOyvITNX0R/mRq18ZXIVIn",
      "include_colab_link": true
    },
    "kernelspec": {
      "name": "python3",
      "display_name": "Python 3"
    },
    "language_info": {
      "name": "python"
    }
  },
  "cells": [
    {
      "cell_type": "markdown",
      "metadata": {
        "id": "view-in-github",
        "colab_type": "text"
      },
      "source": [
        "<a href=\"https://colab.research.google.com/github/BenStanley13/MAT421/blob/main/MAT421HW_G_21_1%2C21_2%2C21_3.ipynb\" target=\"_parent\"><img src=\"https://colab.research.google.com/assets/colab-badge.svg\" alt=\"Open In Colab\"/></a>"
      ]
    },
    {
      "cell_type": "markdown",
      "source": [
        "# Homework G\n",
        "# 21.1: Numerical Integration Problem Statement"
      ],
      "metadata": {
        "id": "dJvrqur50FTy"
      }
    },
    {
      "cell_type": "markdown",
      "source": [
        "Given a function the integral for an interval can be estimated:\n",
        "\n",
        "Over the interval [a,b]\n",
        "\n",
        "Discretized into a numerical grid of n+1 points\n",
        "\n",
        "Spacing of h = (b-a)/n for the grid\n",
        "\n",
        "Each point corresponds to a x_i where a = x_0 and b = x_n\n",
        "\n",
        "Interval [x_i,x_i+1] is the subinterval"
      ],
      "metadata": {
        "id": "i3Rjwndd0ljX"
      }
    },
    {
      "cell_type": "markdown",
      "source": [
        "# 21.2: Riemann's Integral"
      ],
      "metadata": {
        "id": "ngPTB53B6eU0"
      }
    },
    {
      "cell_type": "markdown",
      "source": [
        "The summation of the areas of rectangles that are formed for every subinterval is the easiest way to approximate integrals. The elevation of the rectangle is determined by f(x) for some x in the subinterval, and the span of the rectangle is specified as xi+1xi=h.\n",
        "\n",
        "The Riemann Integral approximation is as follows:\n",
        "\n",
        "∫[a,b] f(x)dx = ∑[n-1, i=0] h f(x_i) = ∑[n, i=1] hf(x_i)\n",
        "\n",
        "The Midpoint Rule takes the rectangle height of the rectangle at each subinterval to be the function value at the midpoint between xi\n",
        " and xi+1, which for compactness we denote by yi=xi+1+xi2. The Midpoint Rule says:\n",
        "\n",
        "∫baf(x)dx≈∑i=0n−1hf(yi).\n",
        "\n"
      ],
      "metadata": {
        "id": "qcVApGj06_QP"
      }
    },
    {
      "cell_type": "code",
      "source": [
        "import numpy as np\n",
        "\n",
        "a = 1\n",
        "b = np.pi\n",
        "n = 9\n",
        "h = (b - a) / (n - 1)\n",
        "x = np.linspace(a, b, n)\n",
        "f = np.sin(x)\n",
        "\n",
        "I_riemannL = h * sum(f[:n-1])\n",
        "err_riemannL = 2 - I_riemannL\n",
        "\n",
        "I_riemannR = h * sum(f[1::])\n",
        "err_riemannR = 2 - I_riemannR\n",
        "\n",
        "I_mid = h * sum(np.sin((x[:n-1] \\\n",
        "        + x[1:])/2))\n",
        "err_mid = 2 - I_mid\n",
        "\n",
        "print(I_riemannL)\n",
        "print(err_riemannL)\n",
        "\n",
        "print(I_riemannR)\n",
        "print(err_riemannR)\n",
        "\n",
        "print(I_mid)\n",
        "print(err_mid)"
      ],
      "metadata": {
        "colab": {
          "base_uri": "https://localhost:8080/"
        },
        "id": "e2IWvhvWM9il",
        "outputId": "72c9142c-1b26-4747-859c-38baa221547c"
      },
      "execution_count": 1,
      "outputs": [
        {
          "output_type": "stream",
          "name": "stdout",
          "text": [
            "1.6437232743742343\n",
            "0.35627672562576573\n",
            "1.4184622644650393\n",
            "0.5815377355349607\n",
            "1.5449112028490832\n",
            "0.45508879715091677\n"
          ]
        }
      ]
    },
    {
      "cell_type": "markdown",
      "source": [
        "# 21.3: Trapezoid Rule\n"
      ],
      "metadata": {
        "id": "Kz0pktoDND8s"
      }
    },
    {
      "cell_type": "markdown",
      "source": [
        "The Trapezoid Rule fits a trapezoid into each subinterval and sums the areas of the trapezoid to approximate the total integral. This approximation for the integral to an arbitrary function is shown in the following figure.\n",
        "\n",
        "For each subinterval, the Trapezoid Rule computes the area of a trapezoid with corners at (xi,0),(xi+1,0),(xi,f(xi)), and (xi+1,f(xi+1)), which is hf(xi)+f(xi+1)2. Thus, the Trapezoid Rule approximates integrals according to the expression:\n",
        "\n",
        "∫baf(x)dx≈∑i=0n−1hf(xi)+f(xi+1)2."
      ],
      "metadata": {
        "id": "NhnHHyt2NPkd"
      }
    },
    {
      "cell_type": "code",
      "source": [
        "import numpy as np\n",
        "\n",
        "a = 1.25\n",
        "b = np.pi\n",
        "n = 13\n",
        "h = (b - a) / (n - 1)\n",
        "x = np.linspace(a, b, n)\n",
        "f = np.sin(x)\n",
        "\n",
        "I_trap = (h/2)*(f[0] + \\\n",
        "          2 * sum(f[1:n-1]) + f[n-1])\n",
        "err_trap = 2 - I_trap\n",
        "\n",
        "print(I_trap)\n",
        "print(err_trap)"
      ],
      "metadata": {
        "colab": {
          "base_uri": "https://localhost:8080/"
        },
        "id": "eiMMAzuLNh3N",
        "outputId": "5b01fef3-c29d-486c-ea5d-d31d73793273"
      },
      "execution_count": 2,
      "outputs": [
        {
          "output_type": "stream",
          "name": "stdout",
          "text": [
            "1.3125976314221548\n",
            "0.6874023685778452\n"
          ]
        }
      ]
    }
  ]
}