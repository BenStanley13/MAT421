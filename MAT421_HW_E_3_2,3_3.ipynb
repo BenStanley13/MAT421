{
  "nbformat": 4,
  "nbformat_minor": 0,
  "metadata": {
    "colab": {
      "provenance": [],
      "authorship_tag": "ABX9TyOhcBWB/cQ6vQto47B6jsTc",
      "include_colab_link": true
    },
    "kernelspec": {
      "name": "python3",
      "display_name": "Python 3"
    },
    "language_info": {
      "name": "python"
    }
  },
  "cells": [
    {
      "cell_type": "markdown",
      "metadata": {
        "id": "view-in-github",
        "colab_type": "text"
      },
      "source": [
        "<a href=\"https://colab.research.google.com/github/BenStanley13/MAT421/blob/main/MAT421_HW_E_3_2%2C3_3.ipynb\" target=\"_parent\"><img src=\"https://colab.research.google.com/assets/colab-badge.svg\" alt=\"Open In Colab\"/></a>"
      ]
    },
    {
      "cell_type": "markdown",
      "source": [
        "# 3.2 Continuity and Differentiation\n"
      ],
      "metadata": {
        "id": "y9KoRAtmL32S"
      }
    },
    {
      "cell_type": "markdown",
      "source": [
        "The value that a function approaches at a certain value x=x0 is known as the limit at x0 represented as lim(x->x0) f(x).\n",
        "\n",
        "The rate at which the function is changing at a given value x=x0 is known as the derivative at x0.\n",
        "\n",
        "Derivative of a function: f'(a) = lim(x->a) (f(x) - f(a))/(x-a)\n",
        "\n",
        "Rolle's Theorem - Let f: [a,b] -> R be a continuous function and assume that its derivative exists on (a,b). If f(a) = f(b), then there is a < c < b such that f'(c) = 0.\n",
        "\n",
        "Mean Value Theorem - Let f: [a,b] -> R be a continuous function and assume that its derivative exists on (a,b). If f(a) = f(b), then there is a < c < b such that f(b) = f(a) + (b-a)*f'(c) => f'(c) = (f(b) - f(a))/(b-a).\n",
        "\n",
        "Talor Series:\n",
        "\n",
        "*   an expansion of some function into an infinite sum of terms\n",
        "*   A representation of a function by an infinite series of polynomials around a point. Defined as: f(x) = sum(inf, n=0) (f^n (a)(x-a)^n)/(n!)\n",
        "\n",
        "\n",
        "\n",
        "\n"
      ],
      "metadata": {
        "id": "8Z2VnKsPMZ2g"
      }
    },
    {
      "cell_type": "markdown",
      "source": [
        "# 3.3 Unconstrained Optimization\n"
      ],
      "metadata": {
        "id": "TjhPLQNSPyFk"
      }
    },
    {
      "cell_type": "markdown",
      "source": [
        "Optimization with Gradient Descent:\n",
        "*   an iterative optimization algorithm for finding a local\n",
        "minimum of a differentiable function\n",
        "\n",
        "Steepest Descent:\n",
        "*   The steepest descent approach is to find smaller values of f by successively\n",
        "following directions in which f decreases\n",
        "*   At each iteration of steepest descent, we take a step in the direction of the negative of the gradient\n",
        "\n",
        "\n",
        "\n",
        "\n",
        "\n"
      ],
      "metadata": {
        "id": "6RUYnIfBQlcX"
      }
    }
  ]
}