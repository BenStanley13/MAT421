{
  "nbformat": 4,
  "nbformat_minor": 0,
  "metadata": {
    "colab": {
      "provenance": [],
      "authorship_tag": "ABX9TyNH5DcuCObY+ZnhqxsvHKOf",
      "include_colab_link": true
    },
    "kernelspec": {
      "name": "python3",
      "display_name": "Python 3"
    },
    "language_info": {
      "name": "python"
    }
  },
  "cells": [
    {
      "cell_type": "markdown",
      "metadata": {
        "id": "view-in-github",
        "colab_type": "text"
      },
      "source": [
        "<a href=\"https://colab.research.google.com/github/BenStanley13/MAT421/blob/main/Mat421_HW_D_1_1%2C1_2%2C1_3.ipynb\" target=\"_parent\"><img src=\"https://colab.research.google.com/assets/colab-badge.svg\" alt=\"Open In Colab\"/></a>"
      ]
    },
    {
      "cell_type": "markdown",
      "source": [
        "# 1.1: Introduction"
      ],
      "metadata": {
        "id": "QTmQdPue1WJn"
      }
    },
    {
      "cell_type": "markdown",
      "source": [
        "Sets - Collection of objects {}\n",
        "\n",
        "Union - A U B - Set containing all elements of A and B\n",
        "\n",
        "Intersect - A n B - Set Containing all elements thats belong to both A and B"
      ],
      "metadata": {
        "id": "vk01MVmH2RA_"
      }
    },
    {
      "cell_type": "markdown",
      "source": [
        "Sets of Numbers:\n",
        "\n",
        "Naturals - N = {1,2,3,4,..}\n",
        "\n",
        "Wholes - W = N U {0}\n",
        "\n",
        "Integers - Z = W U {-1,-2,-3,....}\n",
        "\n",
        "Rationals - Q = { p/g : p ∊ Z , q ∊ Z \\ {0}}\n",
        "\n",
        "Irrationals - I = set of real numbers not expressible as a fraction of integers\n",
        "\n",
        "Reals - R = Q U I\n",
        "\n",
        "Complex Numbers - C = {a + bi: a, b ∊ R, i = sqrt(-1) }"
      ],
      "metadata": {
        "id": "W1iCwncy2oPE"
      }
    },
    {
      "cell_type": "markdown",
      "source": [
        "# 1.2: Elements of Linear Algebra"
      ],
      "metadata": {
        "id": "Oj75UyXv2vex"
      }
    },
    {
      "cell_type": "markdown",
      "source": [
        "A linear subspace of V is a subset U ⊆ V that is closed under vector addition and scalar multiplication. That is for all u1, u2 ∊ U and a ∊ R it holds u1 + u2 and a u1 ∊ u\n",
        "\n",
        "Span - let w1,...,wm ∊ V. The span is denoted span(w1,...,wm) is the set of all linear combos of the w's\n",
        "\n",
        "Every Span is a Linear Subspace - Let W = span(w1,...,wm). Then W is a linear subspace.\n",
        "\n",
        "Column Space - Let A ∊ R^(nxm) be an nxm matrix with columns a1,...,am ∊ R^n. The column space of A, denoted col(A) is the span of the columns of A.\n",
        "\n",
        "Linear Independence - A list of vectors u1,...,um is linearly independent if none of them can be written as a linear combinations of the others.\n",
        "\n",
        "Dimension Theorem - Let U be a linear subspace of V. Any basis of U has the same number of elements. All bases of U have the same length and same number of elements is dim(U).\n",
        "\n",
        "**Orthonormal Bases**\n",
        "\n",
        "A list of vectors {u1,...,um} is orthonormal if the u's are pairwise orthogonal and each has a norm 1 .\n",
        "\n",
        "Orthogonal Projection - Let U ⊆ V be a linear subspace with orthonormal basis q1,...,qm. The orthogonal porjection of v ∊ V on U is Pu v = sum(j=1)< v , qj > qj.\n",
        "\n",
        "Best Approximation Theorem - Let U ⊆ V be a linear subspace with orthonormal basis q1,...,qm let v ∊ V. For any u ∊ U. ||v-Pu v|| <= ||v-u||.\n",
        "\n",
        "Pythagorean Theorem - Let u1 v ∊ V be orthogonal. Then ||u + v||^2 = ||u||^2 + ||v||^2\n",
        "\n",
        "Cauchy-Schwarz - For any u1 v ∊ V , |<u,v>| <= ||u|| ||v||\n",
        "\n",
        "Gram-Schmidt - Let a1,...,am in R^n be linearly independent. Then there exists an orthonormal basis, q1,...,qm of span(a1,...,am).\n",
        "\n",
        "Eigenvalues and Eigenvectors - Let A ∊ R^(dxd) be a square matrix. Then 𝜆 ∊ R is an eigenvalue of A if there exists a non-zero vector x != 0 such that Ax = 𝜆x. Vector x is an eigenvector.\n",
        "\n",
        "Diagonal and Similar Matrices - Let A be similar to a matrix D = diag(𝜆1,...,𝜆d) with distinct diagonal entries, that exists a non-singular matric A such that A = PDP^-1\n",
        "\n",
        "If A is symmetric, then any 2 eigenvectors from different eigenspaces are orthogonal.\n",
        "\n",
        "The Spectral Theorem of Symmetric Matrices - A nxn symmetric matrix A has the following properties:\n",
        "\n",
        "*   A has n eigenvalyes, counting multiplicities.\n",
        "*   If 𝜆 is an eigenvalues of A with multiplicity k, then the eigenspace for x is k-dimensional.\n",
        "*   The eigenspaces are mutually orthogonal, in the sense that eigenvectrs corresponding to different vaues are orthogonal.\n",
        "*   A is orthogonally diagonalizable."
      ],
      "metadata": {
        "id": "BpmpaB-622iC"
      }
    },
    {
      "cell_type": "markdown",
      "source": [
        "# 1.3: Linear Regression"
      ],
      "metadata": {
        "id": "RDFUuCYZ6ADi"
      }
    },
    {
      "cell_type": "markdown",
      "source": [
        "QR Decomposition - a useful procedure to solve the linear least square problem using Gram-Schmidt.\n",
        "\n",
        "Normal Equations - Let A ∊ R^(nxm) be an nxm matrix with linearly independent columns and let b ∊ R^n be a vector. The solution to the least-squares problem min||Ax-b|| satisfies A^T Ax = A^T b which are known as the normal equations.\n",
        "\n",
        "Least Squares via QR - Let A ∊ R^(nxm) be an nxm matrix with linearly independent column, let b ∊ R^n be a vector and let A = QR be a QR decomposition of A where Q is a R^(nxm) matrix with Q^T Q = I(mxm) and T is an upper triangle. \\"
      ],
      "metadata": {
        "id": "n2ld3AzT6D1E"
      }
    }
  ]
}