{
  "nbformat": 4,
  "nbformat_minor": 0,
  "metadata": {
    "colab": {
      "provenance": [],
      "authorship_tag": "ABX9TyPceSVYijFtJfs56B9+ZFu+",
      "include_colab_link": true
    },
    "kernelspec": {
      "name": "python3",
      "display_name": "Python 3"
    },
    "language_info": {
      "name": "python"
    }
  },
  "cells": [
    {
      "cell_type": "markdown",
      "metadata": {
        "id": "view-in-github",
        "colab_type": "text"
      },
      "source": [
        "<a href=\"https://colab.research.google.com/github/BenStanley13/MAT421/blob/main/MAT421_HW_C(19_1%2C19_2%2C19_3%2C19_4%2C19_5).ipynb\" target=\"_parent\"><img src=\"https://colab.research.google.com/assets/colab-badge.svg\" alt=\"Open In Colab\"/></a>"
      ]
    },
    {
      "cell_type": "markdown",
      "source": [
        "# 19.1: Root Finding Problem Statement"
      ],
      "metadata": {
        "id": "TyY3w-DvLkY6"
      }
    },
    {
      "cell_type": "markdown",
      "source": [
        "The root/zero of a function is an Xr, such that f(Xr) = 0. Not all functions have a clear solution to find their roots. In such cases it is useful to generate a numerical approximation of the roots."
      ],
      "metadata": {
        "id": "Yb7i2qR5L_ft"
      }
    },
    {
      "cell_type": "markdown",
      "source": [
        "Ex. Lets find the a root aprroximation for the function f(x) = sin(x)-x"
      ],
      "metadata": {
        "id": "Y7J8fpnCM0a6"
      }
    },
    {
      "cell_type": "code",
      "source": [
        "import numpy as np\n",
        "from scipy import optimize"
      ],
      "metadata": {
        "id": "UK6tD89UNWW3"
      },
      "execution_count": 1,
      "outputs": []
    },
    {
      "cell_type": "code",
      "source": [
        "f = lambda x: np.sin(x) - x\n",
        "r = optimize.fsolve(f,2)\n",
        "print(\"r =\",r)\n",
        "\n",
        "result = f(r)\n",
        "print(\"Result =\", result)"
      ],
      "metadata": {
        "colab": {
          "base_uri": "https://localhost:8080/"
        },
        "id": "p5g3vGPzNilU",
        "outputId": "8a580479-58fe-441b-cd3f-055ee0daf6b0"
      },
      "execution_count": 6,
      "outputs": [
        {
          "output_type": "stream",
          "name": "stdout",
          "text": [
            "r =  [2.07167136e-08]\n",
            "Result =  [0.]\n"
          ]
        }
      ]
    },
    {
      "cell_type": "markdown",
      "source": [
        "# 19.2: Tolerance"
      ],
      "metadata": {
        "id": "LOzOw2LjOjJB"
      }
    },
    {
      "cell_type": "markdown",
      "source": [
        "Tolerence is the accepted deviation from expected value or calculated value for engineering applications. We define convergence to a solution as finding an error value smaller than the tollerence value."
      ],
      "metadata": {
        "id": "O8PhKWf3OsEJ"
      }
    },
    {
      "cell_type": "markdown",
      "source": [
        "For computing roots, we want an xr\n",
        " such that f(Xr)\n",
        " is very close to 0. Therefore |f(x)|\n",
        " is a possible choice for the measure of error since the smaller it is, the likelier we are to a root. Also if we assume that xi\n",
        " is the i\n",
        "th guess of an algorithm for finding a root, then |Xi+1−Xi|\n",
        " is another possible choice for measuring error, since we expect the improvements between subsequent guesses to diminish as it approaches a solution.\n"
      ],
      "metadata": {
        "id": "eutcqHpKRnJ3"
      }
    },
    {
      "cell_type": "markdown",
      "source": [
        "# 19.3: Bisection Method"
      ],
      "metadata": {
        "id": "f3XEr2QZR_7w"
      }
    },
    {
      "cell_type": "markdown",
      "source": [
        "The bisection method uses the intermediate value theorem, the idea that if the signs of f(a) and f(b) aren't the same then there must be a f(c) between f(a) and f(b) that f(c) = 0, iteratively to find the root of a function. The bisection method works by taking a and b and finding a midpoint, b+a/2. If f(m), the mid-point, is = 0 or near it then that is the root. If f(m) is above or below 0 then we know that the root is to the left or the right of f(m)."
      ],
      "metadata": {
        "id": "GUePEjHBSGog"
      }
    },
    {
      "cell_type": "markdown",
      "source": [
        "Ex: Lets use the bisection method to find the root of f(x) = x^3 - 4."
      ],
      "metadata": {
        "id": "FrfFt9NqT7H2"
      }
    },
    {
      "cell_type": "code",
      "source": [
        "def bisection(f, a, b, t):\n",
        "  if np.sign(f(a)) == np.sign(f(b)):\n",
        "    raise Exception(\n",
        "        \"The values do not bound a root\"\n",
        "    )\n",
        "  m = (b+a)/2\n",
        "\n",
        "  if np.abs(f(m)) < t:\n",
        "    return m\n",
        "  elif np.sign(f(a)) == np.sign(f(m)):\n",
        "    return bisection(f, m, b, t)\n",
        "  elif np.sign(f(b)) == np.sign(f(m)):\n",
        "    return bisection(f, a, m, t)"
      ],
      "metadata": {
        "id": "JxJ3OujpUfq_"
      },
      "execution_count": 7,
      "outputs": []
    },
    {
      "cell_type": "code",
      "source": [
        "f = lambda x: x**3 - 4\n",
        "t1 = bisection(f, 1, 2, 0.1)\n",
        "print(\"t1 =\",t1)\n",
        "t01 = bisection(f, 1, 2, 0.01)\n",
        "print(\"t01 =\",t01)\n",
        "print(\"f(t1) =\",f(t1))\n",
        "print(\"f(t01) =\",f(t01))\n"
      ],
      "metadata": {
        "colab": {
          "base_uri": "https://localhost:8080/"
        },
        "id": "zHcg0_Z0UQpe",
        "outputId": "189f69b6-9b2e-4a4b-85f0-15d062dc3cc6"
      },
      "execution_count": 9,
      "outputs": [
        {
          "output_type": "stream",
          "name": "stdout",
          "text": [
            "t1 = 1.59375\n",
            "t01 = 1.587890625\n",
            "f(t1) = 0.048187255859375\n",
            "f(t01) = 0.0037020817399024963\n"
          ]
        }
      ]
    },
    {
      "cell_type": "markdown",
      "source": [
        "# 19.4: Newton-Raphson Method"
      ],
      "metadata": {
        "id": "DBdy-2WLXDyV"
      }
    },
    {
      "cell_type": "markdown",
      "source": [
        "The Newton-Raphson Method is a linear approximation uses the derivative of a function and a point on it to approximate the shape of the function. Doing this, we can attempt to find the root of a function by moving along the function and seeing if it ever gets to within the tolerance."
      ],
      "metadata": {
        "id": "IH6np3TmXMOb"
      }
    },
    {
      "cell_type": "code",
      "source": [
        "f = lambda x: x**3 - 4\n",
        "fprime = lambda x: 3*x**2\n",
        "\n",
        "def NewtonRaphson(f, df, x0, t):\n",
        "  if abs(f(x0)) < t:\n",
        "    return x0\n",
        "  else:\n",
        "    return NewtonRaphson(f, df, x0 - f(x0)/df(x0), t)"
      ],
      "metadata": {
        "id": "ckF3WbnBXr2P"
      },
      "execution_count": 12,
      "outputs": []
    },
    {
      "cell_type": "code",
      "source": [
        "est = NewtonRaphson(f, fprime, 1.4, 1e-6)\n",
        "print(\"Newton-Raphson =\",est)"
      ],
      "metadata": {
        "colab": {
          "base_uri": "https://localhost:8080/"
        },
        "id": "NB4by7H5aSdU",
        "outputId": "6af95f44-570b-4d22-d3e4-76b0210fd5d6"
      },
      "execution_count": 13,
      "outputs": [
        {
          "output_type": "stream",
          "name": "stdout",
          "text": [
            "Newton-Raphson = 1.587401164777749\n"
          ]
        }
      ]
    },
    {
      "cell_type": "markdown",
      "source": [
        "# 19.5: Root Finding in Python"
      ],
      "metadata": {
        "id": "Z0IQt_DhbA4q"
      }
    },
    {
      "cell_type": "markdown",
      "source": [
        "Python has a function that can calculate the root of functions that is part of the SciPy module. The function is called f_solve from scipy.optimize."
      ],
      "metadata": {
        "id": "66kq-HzubIQT"
      }
    },
    {
      "cell_type": "markdown",
      "source": [
        "Ex: Find the root of the function, f(x) = x^3 + 40*x^2 + 10x - 250"
      ],
      "metadata": {
        "id": "e9-gTZUDbckC"
      }
    },
    {
      "cell_type": "code",
      "source": [
        "from scipy.optimize import fsolve\n",
        "f = lambda x: x**3 + 40*x**2 + 10*x -250\n",
        "fsolve(f,[1,15])"
      ],
      "metadata": {
        "colab": {
          "base_uri": "https://localhost:8080/"
        },
        "id": "UyJ8cI38btGj",
        "outputId": "483595f0-33d7-4cc4-e9ce-8667d2cc211e"
      },
      "execution_count": 19,
      "outputs": [
        {
          "output_type": "execute_result",
          "data": {
            "text/plain": [
              "array([-2.72747483,  2.31535209])"
            ]
          },
          "metadata": {},
          "execution_count": 19
        }
      ]
    }
  ]
}